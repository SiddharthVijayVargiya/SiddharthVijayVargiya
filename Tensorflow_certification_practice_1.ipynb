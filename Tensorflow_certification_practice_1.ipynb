{
  "nbformat": 4,
  "nbformat_minor": 0,
  "metadata": {
    "colab": {
      "name": "Tensorflow_certification_practice_1.ipynb",
      "provenance": [],
      "collapsed_sections": [],
      "include_colab_link": true
    },
    "kernelspec": {
      "name": "python3",
      "display_name": "Python 3"
    },
    "language_info": {
      "name": "python"
    }
  },
  "cells": [
    {
      "cell_type": "markdown",
      "metadata": {
        "id": "view-in-github",
        "colab_type": "text"
      },
      "source": [
        "<a href=\"https://colab.research.google.com/github/SiddharthVijayVargiya/SiddharthVijayVargiya/blob/main/Tensorflow_certification_practice_1.ipynb\" target=\"_parent\"><img src=\"https://colab.research.google.com/assets/colab-badge.svg\" alt=\"Open In Colab\"/></a>"
      ]
    },
    {
      "cell_type": "code",
      "execution_count": null,
      "metadata": {
        "id": "Qah_bHMbEbpD"
      },
      "outputs": [],
      "source": [
        "import numpy as np\n",
        "\n",
        "import tensorflow as tf\n",
        "from tensorflow import keras\n",
        "from tensorflow.keras import layers \n",
        "import matplotlib.pyplot as plt\n",
        "from tensorflow.keras.datasets import mnist\n",
        "from tensorflow.keras.applications import EfficientNetB0"
      ]
    },
    {
      "cell_type": "code",
      "source": [
        "\n",
        "(x_train, y_train),(x_test, y_test) = mnist.load_data()\n",
        "print(\"Training Data:\" ,x_train.shape)\n",
        "print(\"Test data\", x_test.shape)\n",
        "x_train = x_train.astype(\"float32\") / 255\n",
        "x_test = x_test.astype(\"float32\") / 255\n",
        "\n",
        "x_train = np.expand_dims(x_train, -1)\n",
        "x_test = np.expand_dims(x_test, -1)\n",
        "\n",
        "y_train = tf.keras.utils.to_categorical(y_train, num_classes=10)\n",
        "y_test = tf.keras.utils.to_categorical(y_test, num_classes=10)"
      ],
      "metadata": {
        "colab": {
          "base_uri": "https://localhost:8080/"
        },
        "id": "TenKyQb5E44O",
        "outputId": "796e565d-a5b0-4ec4-b507-975c8920ebc5"
      },
      "execution_count": null,
      "outputs": [
        {
          "output_type": "stream",
          "name": "stdout",
          "text": [
            "Training Data: (60000, 28, 28)\n",
            "Test data (10000, 28, 28)\n"
          ]
        }
      ]
    },
    {
      "cell_type": "code",
      "source": [
        "print(x_train.shape,y_train.shape,x_test.shape,y_test.shape)"
      ],
      "metadata": {
        "colab": {
          "base_uri": "https://localhost:8080/"
        },
        "id": "NYX7usH6OjD1",
        "outputId": "e2779940-9463-4b35-845f-1c926c05e17e"
      },
      "execution_count": null,
      "outputs": [
        {
          "output_type": "stream",
          "name": "stdout",
          "text": [
            "(60000, 28, 28, 1) (60000, 10) (10000, 28, 28, 1) (10000, 10)\n"
          ]
        }
      ]
    },
    {
      "cell_type": "code",
      "source": [
        "model = keras.Sequential([\n",
        "                          keras.Input(shape=(28,28,1)),\n",
        "                          layers.Conv2D(filters=10,kernel_size=(3, 3),padding='valid',activation='relu'),\n",
        "                          layers.MaxPooling2D(pool_size=(2, 2)),\n",
        "                          layers.Conv2D(filters=20,kernel_size=(3, 3),padding='valid',activation='relu'),\n",
        "                          layers.MaxPooling2D(pool_size=(2, 2)),\n",
        "                          layers.Flatten(),\n",
        "                          layers.Dense(units=512, activation='relu'),\n",
        "                          layers.Dense(units=10, activation='softmax'),\n",
        "])"
      ],
      "metadata": {
        "id": "mz7KEti3IpEk"
      },
      "execution_count": null,
      "outputs": []
    },
    {
      "cell_type": "code",
      "source": [
        "model.compile(\n",
        "    optimizer = tf.keras.optimizers.RMSprop(learning_rate=0.001),\n",
        "    loss = tf.keras.losses.categorical_crossentropy,\n",
        "    metrics = ['accuracy'],\n",
        ")\n",
        "\n"
      ],
      "metadata": {
        "id": "gopfxwB3MIZl"
      },
      "execution_count": null,
      "outputs": []
    },
    {
      "cell_type": "code",
      "source": [
        "hist = model.fit(x_train, y_train , epochs=10, validation_split=0.1)"
      ],
      "metadata": {
        "colab": {
          "base_uri": "https://localhost:8080/"
        },
        "id": "rOl4mAwbPjsT",
        "outputId": "563d1312-204b-4555-e279-bef4eb0a5f59"
      },
      "execution_count": null,
      "outputs": [
        {
          "metadata": {
            "tags": null
          },
          "name": "stdout",
          "output_type": "stream",
          "text": [
            "Epoch 1/10\n",
            "1688/1688 [==============================] - 36s 21ms/step - loss: 0.1467 - accuracy: 0.9539 - val_loss: 0.0538 - val_accuracy: 0.9850\n",
            "Epoch 2/10\n",
            "1688/1688 [==============================] - 35s 21ms/step - loss: 0.0529 - accuracy: 0.9839 - val_loss: 0.0511 - val_accuracy: 0.9865\n",
            "Epoch 3/10\n",
            "1688/1688 [==============================] - 35s 21ms/step - loss: 0.0391 - accuracy: 0.9884 - val_loss: 0.0588 - val_accuracy: 0.9850\n",
            "Epoch 4/10\n",
            "1688/1688 [==============================] - 34s 20ms/step - loss: 0.0308 - accuracy: 0.9904 - val_loss: 0.0520 - val_accuracy: 0.9863\n",
            "Epoch 5/10\n",
            "1688/1688 [==============================] - 34s 20ms/step - loss: 0.0266 - accuracy: 0.9923 - val_loss: 0.0394 - val_accuracy: 0.9887\n",
            "Epoch 6/10\n",
            "1688/1688 [==============================] - 36s 21ms/step - loss: 0.0233 - accuracy: 0.9934 - val_loss: 0.0454 - val_accuracy: 0.9888\n",
            "Epoch 7/10\n",
            "1688/1688 [==============================] - 35s 21ms/step - loss: 0.0205 - accuracy: 0.9938 - val_loss: 0.0594 - val_accuracy: 0.9897\n",
            "Epoch 8/10\n",
            "1688/1688 [==============================] - 36s 21ms/step - loss: 0.0183 - accuracy: 0.9945 - val_loss: 0.0518 - val_accuracy: 0.9897\n",
            "Epoch 9/10\n",
            "1688/1688 [==============================] - 35s 21ms/step - loss: 0.0172 - accuracy: 0.9948 - val_loss: 0.0527 - val_accuracy: 0.9890\n",
            "Epoch 10/10\n",
            "1688/1688 [==============================] - 36s 21ms/step - loss: 0.0167 - accuracy: 0.9950 - val_loss: 0.0514 - val_accuracy: 0.9882\n"
          ]
        }
      ]
    },
    {
      "cell_type": "code",
      "source": [
        "model.evaluate(x_test,y_test)"
      ],
      "metadata": {
        "colab": {
          "base_uri": "https://localhost:8080/"
        },
        "id": "V8URMNXQRdVt",
        "outputId": "5c4a6c48-c52c-4bc3-c01f-49debabd7e8a"
      },
      "execution_count": null,
      "outputs": [
        {
          "output_type": "stream",
          "name": "stdout",
          "text": [
            "313/313 [==============================] - 3s 8ms/step - loss: 0.0475 - accuracy: 0.9879\n"
          ]
        },
        {
          "output_type": "execute_result",
          "data": {
            "text/plain": [
              "[0.04754234850406647, 0.9879000186920166]"
            ]
          },
          "metadata": {},
          "execution_count": 7
        }
      ]
    },
    {
      "cell_type": "code",
      "source": [
        "def plot_hist(hist):\n",
        "    plt.plot(hist.history[\"accuracy\"])\n",
        "    plt.plot(hist.history[\"val_accuracy\"])\n",
        "    plt.title(\"model accuracy\")\n",
        "    plt.ylabel(\"accuracy\")\n",
        "    plt.xlabel(\"epoch\")\n",
        "    plt.legend([\"train\", \"validation\"], loc=\"upper left\")\n",
        "    plt.show()\n",
        "\n",
        "plot_hist(hist)"
      ],
      "metadata": {
        "colab": {
          "base_uri": "https://localhost:8080/",
          "height": 295
        },
        "id": "FS8_nLi3R5mF",
        "outputId": "dcef6272-e62e-49c4-995b-e3a1f0e895f3"
      },
      "execution_count": null,
      "outputs": [
        {
          "output_type": "display_data",
          "data": {
            "text/plain": [
              "<Figure size 432x288 with 1 Axes>"
            ],
            "image/png": "[encoded data removed]"
          },
          "metadata": {
            "needs_background": "light"
          }
        }
      ]
    },
    {
      "cell_type": "code",
      "source": [
        "pred = model.predict(x_test)"
      ],
      "metadata": {
        "id": "vjMrDANdTIXb"
      },
      "execution_count": null,
      "outputs": []
    },
    {
      "cell_type": "code",
      "source": [
        "tf.argmax(pred[i]) != tf.argmax(y_test[i])"
      ],
      "metadata": {
        "colab": {
          "base_uri": "https://localhost:8080/"
        },
        "id": "rZ3jkOf_iImC",
        "outputId": "ef05275b-0a55-4aae-868b-3b656aea2381"
      },
      "execution_count": null,
      "outputs": [
        {
          "output_type": "execute_result",
          "data": {
            "text/plain": [
              "<tf.Tensor: shape=(), dtype=int64, numpy=7>"
            ]
          },
          "metadata": {},
          "execution_count": 32
        }
      ]
    },
    {
      "cell_type": "code",
      "source": [
        "y_test[0]"
      ],
      "metadata": {
        "colab": {
          "base_uri": "https://localhost:8080/"
        },
        "id": "J-NLoIMek0tB",
        "outputId": "e82bfce6-8856-46c3-e4e2-c26b4f2e1172"
      },
      "execution_count": null,
      "outputs": [
        {
          "output_type": "execute_result",
          "data": {
            "text/plain": [
              "array([0., 0., 0., 0., 0., 0., 0., 1., 0., 0.], dtype=float32)"
            ]
          },
          "metadata": {},
          "execution_count": 35
        }
      ]
    },
    {
      "cell_type": "code",
      "source": [
        "indices = [i for i,v in enumerate(pred) if tf.argmax(pred[i])!=tf.argmax(y_test[i])]\n",
        "subset_of_wrongly_predicted = [x_test[i] for i in indices ]"
      ],
      "metadata": {
        "id": "HceGfdP-S_3d"
      },
      "execution_count": null,
      "outputs": []
    },
    {
      "cell_type": "code",
      "source": [
        "tf.argmax(pred[18])"
      ],
      "metadata": {
        "colab": {
          "base_uri": "https://localhost:8080/"
        },
        "id": "Olna5UICTr-M",
        "outputId": "18af9ca4-109e-4265-df8e-adb9468181a2"
      },
      "execution_count": null,
      "outputs": [
        {
          "output_type": "execute_result",
          "data": {
            "text/plain": [
              "<tf.Tensor: shape=(), dtype=int64, numpy=5>"
            ]
          },
          "metadata": {},
          "execution_count": 29
        }
      ]
    },
    {
      "cell_type": "code",
      "source": [
        "tf.argmax(y_test[18])"
      ],
      "metadata": {
        "colab": {
          "base_uri": "https://localhost:8080/"
        },
        "id": "2zTAZi6_VrcV",
        "outputId": "f3a40dac-f2de-48fb-e975-47b70e20c111"
      },
      "execution_count": null,
      "outputs": [
        {
          "output_type": "execute_result",
          "data": {
            "text/plain": [
              "<tf.Tensor: shape=(), dtype=int64, numpy=3>"
            ]
          },
          "metadata": {},
          "execution_count": 30
        }
      ]
    }
  ]
}